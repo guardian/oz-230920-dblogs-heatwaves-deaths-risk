{
 "cells": [
  {
   "cell_type": "code",
   "execution_count": 7,
   "metadata": {},
   "outputs": [],
   "source": [
    "# %%\n",
    "import pandas as pd \n",
    "import os \n",
    "import pathlib\n",
    "# pd.set_option(\"display.max_rows\", 100)\n",
    "from sudulunu.helpers import pp, make_num, dumper"
   ]
  },
  {
   "cell_type": "code",
   "execution_count": 16,
   "metadata": {},
   "outputs": [
    {
     "name": "stdout",
     "output_type": "stream",
     "text": [
      "                                                  Cause     2012     2013  \\\n",
      "0                        Cause of death and ICD-10 code  Persons  Persons   \n",
      "1                                          Total deaths   147098   147678   \n",
      "4     CHAPTER I Certain infectious and parasitic dis...     2394     2682   \n",
      "5             Intestinal infectious diseases  (A00-A09)      153      277   \n",
      "6                                         Cholera (A00)        0        0   \n",
      "...                                                 ...      ...      ...   \n",
      "1947            CHAPTER XXII Codes for special purposes        0        0   \n",
      "1948                             COVID-19 (U07.1-U07.2)        0        0   \n",
      "1949                      Post COVID-19 condition (U09)        0        0   \n",
      "1950  Multi-system inflammatory syndrome associated ...        0        0   \n",
      "1951  COVID-19 vaccines causing adverse effects in t...        0        0   \n",
      "\n",
      "         2014     2015     2016     2017     2018     2019     2020     2021  \n",
      "0     Persons  Persons  Persons  Persons  Persons  Persons  Persons  Persons  \n",
      "1      153580   159052   158504   160909   158493   169301   161300   171469  \n",
      "4        2735     2857     2832     2650     2421     2587     2321     2568  \n",
      "5         274      295      273      322      275      325      237      322  \n",
      "6           0        0        0        0        0        0        0        0  \n",
      "...       ...      ...      ...      ...      ...      ...      ...      ...  \n",
      "1947        0        0        0        0        0        0      898     1137  \n",
      "1948        0        0        0        0        0        0      898     1122  \n",
      "1949        0        0        0        0        0        0        0        0  \n",
      "1950        0        0        0        0        0        0        0        0  \n",
      "1951        0        0        0        0        0        0        0       15  \n",
      "\n",
      "[1950 rows x 11 columns]\n",
      "['Cause', '2012', '2013', '2014', '2015', '2016', '2017', '2018', '2019', '2020', '2021']\n"
     ]
    }
   ],
   "source": [
    "fillo = 'input/2021_1 Underlying causes of death (Australia).xlsx'\n",
    "# sheets = pd.read_excel(fillo, None).keys()\n",
    "# print(sheets)\n",
    "# 'Contents', 'Table 1.1', 'Table 1.2', 'Table 1.3 ', 'Table 1.4'\n",
    "\n",
    "data = pd.read_excel(fillo, sheet_name='Table 1.2', skiprows=4)\n",
    "\n",
    "# ['Unnamed: 0', \n",
    "#  2012, 'Unnamed: 2', 'Unnamed: 3', 'Unnamed: 4', \n",
    "#  2013, 'Unnamed: 6', 'Unnamed: 7', 'Unnamed: 8', \n",
    "#  2014, 'Unnamed: 10', 'Unnamed: 11', 'Unnamed: 12', \n",
    "#  2015, 'Unnamed: 14', 'Unnamed: 15', 'Unnamed: 16', \n",
    "#  2016, 'Unnamed: 18', 'Unnamed: 19', 'Unnamed: 20', \n",
    "#  2017, 'Unnamed: 22', 'Unnamed: 23', 'Unnamed: 24', \n",
    "#  2018, 'Unnamed: 26', 'Unnamed: 27', 'Unnamed: 28', \n",
    "#  2019, 'Unnamed: 30', 'Unnamed: 31', 'Unnamed: 32', \n",
    "#  2020, 'Unnamed: 34', 'Unnamed: 35', 'Unnamed: 36', \n",
    "#  2021, 'Unnamed: 38', 'Unnamed: 39']\n",
    "\n",
    "\n",
    "data.rename(columns={'Unnamed: 0':\"Cause\",\n",
    "                     'Unnamed: 3':\"2012\", \n",
    "                            'Unnamed: 7': \"2013\", \n",
    " 'Unnamed: 11':'2014', \n",
    " 'Unnamed: 15':'2015', \n",
    " 'Unnamed: 19':'2016', \n",
    "'Unnamed: 23':'2017', \n",
    " 'Unnamed: 27':'2018', \n",
    " 'Unnamed: 31':'2019', \n",
    " 'Unnamed: 35':'2020', \n",
    " 'Unnamed: 39':'2021'\n",
    "}, inplace=True)\n",
    "\n",
    "data = data[['Cause',  '2012',  '2013', '2014', '2015','2016', '2017', '2018', '2019', '2020',  '2021']]\n",
    "\n",
    "data.dropna(subset=['2021'], inplace=True)\n",
    "\n",
    "pp(data)"
   ]
  }
 ],
 "metadata": {
  "kernelspec": {
   "display_name": "Python 3",
   "language": "python",
   "name": "python3"
  },
  "language_info": {
   "codemirror_mode": {
    "name": "ipython",
    "version": 3
   },
   "file_extension": ".py",
   "mimetype": "text/x-python",
   "name": "python",
   "nbconvert_exporter": "python",
   "pygments_lexer": "ipython3",
   "version": "3.11.5"
  },
  "orig_nbformat": 4
 },
 "nbformat": 4,
 "nbformat_minor": 2
}
